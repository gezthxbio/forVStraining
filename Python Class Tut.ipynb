{
 "cells": [
  {
   "cell_type": "code",
   "execution_count": 24,
   "id": "05a30315",
   "metadata": {},
   "outputs": [
    {
     "name": "stdout",
     "output_type": "stream",
     "text": [
      "Buddy is barking!\n",
      "Dog's Name: Max\n",
      "Dog's Age: 5\n",
      "Dog's Age in Dog Years: 35\n"
     ]
    }
   ],
   "source": [
    "# Define the Dog class\n",
    "class Dog:\n",
    "    # Constructor method to initialize the attributes\n",
    "    def __init__(self, name, age):\n",
    "        self.name = name  # Attribute: dog's name\n",
    "        self.age = age    # Attribute: dog's age\n",
    "    \n",
    "    # Method to make the dog bark\n",
    "    def bark(self):\n",
    "        print(f\"{self.name} is barking!\")\n",
    "    \n",
    "    # Method to get the dog's age in dog years\n",
    "    def get_dog_years(self):\n",
    "        return self.age * 7\n",
    "    \n",
    "    # Method to display dog's information\n",
    "    def display_info(self):\n",
    "        print(f\"Dog's Name: {self.name}\")\n",
    "        print(f\"Dog's Age: {self.age}\")\n",
    "        print(f\"Dog's Age in Dog Years: {self.get_dog_years()}\")\n",
    "\n",
    "# Creating instances (objects) of the Dog class\n",
    "dog1 = Dog(\"Buddy\", 3)\n",
    "dog2 = Dog(\"Max\", 5)\n",
    "\n",
    "# Calling methods on the objects\n",
    "dog1.bark()            # Output: Buddy is barking!\n",
    "dog2.display_info()    # Output: Dog's Name: Max, Dog's Age: 5, Dog's Age in Dog Years: 35"
   ]
  },
  {
   "cell_type": "code",
   "execution_count": 31,
   "id": "2f4521f8",
   "metadata": {},
   "outputs": [],
   "source": [
    "class Variant:\n",
    "    def __init__(self, chr, pos, ref, alt):\n",
    "        self.chr = chr\n",
    "        self.pos = pos\n",
    "        self.ref = ref\n",
    "        self.alt = alt\n",
    "        \n",
    "    # get chr+pos\n",
    "    def varLoc(self):\n",
    "        loc = f\"{self.chr}:{self.pos}\"\n",
    "        return loc\n",
    "    \n",
    "    # var info\n",
    "    def varInfo(self):\n",
    "        print(self.chr, self.pos, self.ref, self.alt, '|', self.varLoc())"
   ]
  },
  {
   "cell_type": "code",
   "execution_count": 33,
   "id": "5124eca8",
   "metadata": {},
   "outputs": [],
   "source": [
    "var1 = Variant('chr1', '500', 'A', 'T')\n",
    "var2 = Variant('chr2', '600', 'G', 'A')"
   ]
  },
  {
   "cell_type": "code",
   "execution_count": 18,
   "id": "f812d831",
   "metadata": {},
   "outputs": [
    {
     "data": {
      "text/plain": [
       "'chr1:500'"
      ]
     },
     "execution_count": 18,
     "metadata": {},
     "output_type": "execute_result"
    }
   ],
   "source": [
    "var1.varLoc()"
   ]
  },
  {
   "cell_type": "code",
   "execution_count": 34,
   "id": "bf9eec59",
   "metadata": {},
   "outputs": [
    {
     "name": "stdout",
     "output_type": "stream",
     "text": [
      "chr1 500 A T | chr1:500\n"
     ]
    }
   ],
   "source": [
    "var1.varInfo()"
   ]
  },
  {
   "cell_type": "code",
   "execution_count": 20,
   "id": "c0f0234a",
   "metadata": {},
   "outputs": [],
   "source": [
    "var1.chr = 'chr10'"
   ]
  },
  {
   "cell_type": "code",
   "execution_count": 21,
   "id": "c2daadf1",
   "metadata": {},
   "outputs": [
    {
     "name": "stdout",
     "output_type": "stream",
     "text": [
      "chr10 500 A T\n"
     ]
    }
   ],
   "source": [
    "var1.varInfo()"
   ]
  }
 ],
 "metadata": {
  "kernelspec": {
   "display_name": "Python 3 (ipykernel)",
   "language": "python",
   "name": "python3"
  },
  "language_info": {
   "codemirror_mode": {
    "name": "ipython",
    "version": 3
   },
   "file_extension": ".py",
   "mimetype": "text/x-python",
   "name": "python",
   "nbconvert_exporter": "python",
   "pygments_lexer": "ipython3",
   "version": "3.9.12"
  }
 },
 "nbformat": 4,
 "nbformat_minor": 5
}
